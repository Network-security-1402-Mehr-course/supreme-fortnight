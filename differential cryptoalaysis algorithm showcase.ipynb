{
 "cells": [
  {
   "cell_type": "code",
   "execution_count": 109,
   "id": "fe6c20bd-e9e1-4527-9bcd-c5fdf712aa33",
   "metadata": {},
   "outputs": [
    {
     "data": {
      "text/plain": [
       "array([10,  4,  3, 11,  8, 14,  2, 12,  5,  7,  6, 15,  0,  1,  9, 13],\n",
       "      dtype=uint8)"
      ]
     },
     "execution_count": 109,
     "metadata": {},
     "output_type": "execute_result"
    }
   ],
   "source": [
    "import numpy as np\n",
    "\n",
    "s_box = np.array([10, 4, 3, 11, 8, 14, 2, 12, 5, 7, 6, 15, 0, 1, 9, 13], dtype=np.uint8)\n",
    "n = 16\n",
    "s_box"
   ]
  },
  {
   "cell_type": "code",
   "execution_count": 115,
   "id": "ac6b53a1-e25d-4a87-89b6-8d7961c8e3af",
   "metadata": {},
   "outputs": [
    {
     "data": {
      "text/plain": [
       "array([[ 0,  0,  0,  0,  0,  0,  0,  0,  0,  0,  0,  0,  0,  0,  0,  0],\n",
       "       [ 1,  1,  1,  1,  1,  1,  1,  1,  1,  1,  1,  1,  1,  1,  1,  1],\n",
       "       [ 2,  2,  2,  2,  2,  2,  2,  2,  2,  2,  2,  2,  2,  2,  2,  2],\n",
       "       [ 3,  3,  3,  3,  3,  3,  3,  3,  3,  3,  3,  3,  3,  3,  3,  3],\n",
       "       [ 4,  4,  4,  4,  4,  4,  4,  4,  4,  4,  4,  4,  4,  4,  4,  4],\n",
       "       [ 5,  5,  5,  5,  5,  5,  5,  5,  5,  5,  5,  5,  5,  5,  5,  5],\n",
       "       [ 6,  6,  6,  6,  6,  6,  6,  6,  6,  6,  6,  6,  6,  6,  6,  6],\n",
       "       [ 7,  7,  7,  7,  7,  7,  7,  7,  7,  7,  7,  7,  7,  7,  7,  7],\n",
       "       [ 8,  8,  8,  8,  8,  8,  8,  8,  8,  8,  8,  8,  8,  8,  8,  8],\n",
       "       [ 9,  9,  9,  9,  9,  9,  9,  9,  9,  9,  9,  9,  9,  9,  9,  9],\n",
       "       [10, 10, 10, 10, 10, 10, 10, 10, 10, 10, 10, 10, 10, 10, 10, 10],\n",
       "       [11, 11, 11, 11, 11, 11, 11, 11, 11, 11, 11, 11, 11, 11, 11, 11],\n",
       "       [12, 12, 12, 12, 12, 12, 12, 12, 12, 12, 12, 12, 12, 12, 12, 12],\n",
       "       [13, 13, 13, 13, 13, 13, 13, 13, 13, 13, 13, 13, 13, 13, 13, 13],\n",
       "       [14, 14, 14, 14, 14, 14, 14, 14, 14, 14, 14, 14, 14, 14, 14, 14],\n",
       "       [15, 15, 15, 15, 15, 15, 15, 15, 15, 15, 15, 15, 15, 15, 15, 15]])"
      ]
     },
     "execution_count": 115,
     "metadata": {},
     "output_type": "execute_result"
    }
   ],
   "source": [
    "A = np.arange(n).repeat(n).reshape(n, n)\n",
    "A"
   ]
  },
  {
   "cell_type": "code",
   "execution_count": 147,
   "id": "f700eeb5-b65d-45b5-9119-2b385f3a222b",
   "metadata": {},
   "outputs": [
    {
     "data": {
      "text/plain": [
       "array([[ 0,  0,  0,  0,  0,  0,  0,  0,  0,  0,  0,  0,  0,  0,  0,  0],\n",
       "       [14, 14,  8,  8,  6,  6, 14, 14,  2,  2,  9,  9,  1,  1,  4,  4],\n",
       "       [ 9, 15,  9, 15, 10,  2, 10,  2,  3,  8,  3,  8,  9, 12,  9, 12],\n",
       "       [ 1,  7,  7,  1,  4, 12, 12,  4, 10,  1,  1, 10, 13,  8,  8, 13],\n",
       "       [ 2, 10,  1,  7,  2, 10,  1,  7,  5,  6, 15,  2,  5,  6, 15,  2],\n",
       "       [ 4, 12, 15,  9, 12,  4,  9, 15,  4,  7, 11,  6,  7,  4,  6, 11],\n",
       "       [ 8,  8, 11,  5, 11,  5,  8,  8, 12, 10,  6, 14,  6, 14, 12, 10],\n",
       "       [ 6,  6, 13,  3,  3, 13,  6,  6,  8, 14,  7, 15, 15,  7, 14,  8],\n",
       "       [15,  3,  5,  4,  8, 15, 11,  1, 15,  3,  5,  4,  8, 15, 11,  1],\n",
       "       [13,  1, 12, 13,  9, 14, 15,  5,  1, 13, 13, 12, 14,  9,  5, 15],\n",
       "       [12, 11,  6, 12,  1,  3,  2, 13,  6, 12, 12, 11,  2, 13,  1,  3],\n",
       "       [ 5,  2,  4, 14,  5,  7,  3, 12, 14,  4,  2,  5, 12,  3,  7,  5],\n",
       "       [10,  5, 10,  6, 13,  9,  4,  3, 13,  9,  4,  3, 10,  5, 10,  6],\n",
       "       [11,  4, 14,  2, 15, 11, 13, 10, 11, 15, 10, 13,  4, 11,  2, 14],\n",
       "       [ 3,  9,  3, 10, 14,  1,  7, 11,  7, 11, 14,  1,  3, 10,  3,  9],\n",
       "       [ 7, 13,  2, 11,  7,  8,  5,  9,  9,  5,  8,  7, 11,  2, 13,  7]],\n",
       "      dtype=uint8)"
      ]
     },
     "execution_count": 147,
     "metadata": {},
     "output_type": "execute_result"
    }
   ],
   "source": [
    "difference_table = s_box[A ^ np.arange(16)] ^ s_box\n",
    "difference_table"
   ]
  },
  {
   "cell_type": "code",
   "execution_count": 152,
   "id": "511d24a4-3f9e-4d29-a5eb-89c3326327be",
   "metadata": {},
   "outputs": [
    {
     "data": {
      "text/plain": [
       "array([[16,  0,  0,  0,  0,  0,  0,  0,  0,  0,  0,  0,  0,  0,  0,  0],\n",
       "       [ 0,  2,  2,  0,  2,  0,  2,  0,  2,  2,  0,  0,  0,  0,  4,  0],\n",
       "       [ 0,  0,  2,  2,  0,  0,  0,  0,  2,  4,  2,  0,  2,  0,  0,  2],\n",
       "       [ 0,  4,  0,  0,  2,  0,  0,  2,  2,  0,  2,  0,  2,  2,  0,  0],\n",
       "       [ 0,  2,  4,  0,  0,  2,  2,  2,  0,  0,  2,  0,  0,  0,  0,  2],\n",
       "       [ 0,  0,  0,  0,  4,  0,  2,  2,  0,  2,  0,  2,  2,  0,  0,  2],\n",
       "       [ 0,  0,  0,  0,  0,  2,  2,  0,  4,  0,  2,  2,  2,  0,  2,  0],\n",
       "       [ 0,  0,  0,  2,  0,  0,  4,  2,  2,  0,  0,  0,  0,  2,  2,  2],\n",
       "       [ 0,  2,  0,  2,  2,  2,  0,  0,  2,  0,  0,  2,  0,  0,  0,  4],\n",
       "       [ 0,  2,  0,  0,  0,  2,  0,  0,  0,  2,  0,  0,  2,  4,  2,  2],\n",
       "       [ 0,  2,  2,  2,  0,  0,  2,  0,  0,  0,  0,  2,  4,  2,  0,  0],\n",
       "       [ 0,  0,  2,  2,  2,  4,  0,  2,  0,  0,  0,  0,  2,  0,  2,  0],\n",
       "       [ 0,  0,  0,  2,  2,  2,  2,  0,  0,  2,  4,  0,  0,  2,  0,  0],\n",
       "       [ 0,  0,  2,  0,  2,  0,  0,  0,  0,  0,  2,  4,  0,  2,  2,  2],\n",
       "       [ 0,  2,  0,  4,  0,  0,  0,  2,  0,  2,  2,  2,  0,  0,  2,  0],\n",
       "       [ 0,  0,  2,  0,  0,  2,  0,  4,  2,  2,  0,  2,  0,  2,  0,  0]],\n",
       "      dtype=uint8)"
      ]
     },
     "execution_count": 152,
     "metadata": {},
     "output_type": "execute_result"
    }
   ],
   "source": [
    "differential_cryptanalysis_table = np.zeros((n, n), dtype=np.uint8)\n",
    "for diff in range(n):\n",
    "    vlaues, counts = np.unique(difference_table[diff], return_counts=True)\n",
    "    differential_cryptanalysis_table[diff][vlaues] = counts\n",
    "differential_cryptanalysis_table"
   ]
  },
  {
   "cell_type": "code",
   "execution_count": 151,
   "id": "970722d4-2534-4997-a178-c6e1524975b7",
   "metadata": {},
   "outputs": [
    {
     "data": {
      "text/plain": [
       "(array([0], dtype=uint8), array([16], dtype=int64))"
      ]
     },
     "execution_count": 151,
     "metadata": {},
     "output_type": "execute_result"
    }
   ],
   "source": [
    "np.unique(difference_table[0], return_counts=True)"
   ]
  },
  {
   "cell_type": "code",
   "execution_count": null,
   "id": "cb976ba5-fa7f-48b0-a2ea-47818d5f8d42",
   "metadata": {},
   "outputs": [],
   "source": []
  }
 ],
 "metadata": {
  "kernelspec": {
   "display_name": "Python 3 (ipykernel)",
   "language": "python",
   "name": "python3"
  },
  "language_info": {
   "codemirror_mode": {
    "name": "ipython",
    "version": 3
   },
   "file_extension": ".py",
   "mimetype": "text/x-python",
   "name": "python",
   "nbconvert_exporter": "python",
   "pygments_lexer": "ipython3",
   "version": "3.12.0"
  }
 },
 "nbformat": 4,
 "nbformat_minor": 5
}
